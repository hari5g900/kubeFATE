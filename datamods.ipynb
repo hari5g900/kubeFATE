{
 "cells": [
  {
   "cell_type": "code",
   "execution_count": 63,
   "id": "bc9e9f42",
   "metadata": {
    "scrolled": true
   },
   "outputs": [],
   "source": [
    "import pandas as pd\n",
    "from sklearn.preprocessing import StandardScaler\n",
    "\n",
    "df = pd.read_csv('clean_data(mod).csv')\n",
    "\n",
    "df2 = df.drop('id',axis=1)"
   ]
  },
  {
   "cell_type": "code",
   "execution_count": 64,
   "id": "8bf552d7",
   "metadata": {},
   "outputs": [],
   "source": [
    "scaler = StandardScaler()"
   ]
  },
  {
   "cell_type": "code",
   "execution_count": 66,
   "id": "4d502e54",
   "metadata": {},
   "outputs": [],
   "source": [
    "df2 = pd.DataFrame(scaler.fit_transform(df2.values), columns=df2.columns, index=df2.index)"
   ]
  },
  {
   "cell_type": "code",
   "execution_count": 68,
   "id": "4dfadebd",
   "metadata": {},
   "outputs": [],
   "source": [
    "df2['id']=df.id"
   ]
  },
  {
   "cell_type": "code",
   "execution_count": 73,
   "id": "30d3e546",
   "metadata": {},
   "outputs": [],
   "source": [
    "df2=df2.set_index('id')"
   ]
  },
  {
   "cell_type": "code",
   "execution_count": 74,
   "id": "1151cbc8",
   "metadata": {},
   "outputs": [],
   "source": [
    "df2.to_csv('clean_data_scaled.csv')"
   ]
  },
  {
   "cell_type": "code",
   "execution_count": null,
   "id": "e88a8bd6",
   "metadata": {},
   "outputs": [],
   "source": []
  }
 ],
 "metadata": {
  "kernelspec": {
   "display_name": "Python 3 (ipykernel)",
   "language": "python",
   "name": "python3"
  },
  "language_info": {
   "codemirror_mode": {
    "name": "ipython",
    "version": 3
   },
   "file_extension": ".py",
   "mimetype": "text/x-python",
   "name": "python",
   "nbconvert_exporter": "python",
   "pygments_lexer": "ipython3",
   "version": "3.8.15"
  }
 },
 "nbformat": 4,
 "nbformat_minor": 5
}
